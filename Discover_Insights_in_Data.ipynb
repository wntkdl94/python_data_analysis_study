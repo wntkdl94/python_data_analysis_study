{
 "cells": [
  {
   "cell_type": "markdown",
   "id": "finite-metropolitan",
   "metadata": {},
   "source": [
    "# 데이터에서 인사이트 발견하기\n",
    "\n",
    "### chapter1 1.1 탐색적 데이터 분석의 과정\n",
    "탐색적 데이터 분석은 데이터의 정보를 파악하며 문제 해결에 필요한 힌트를 분석하는 과정입니다.  \n",
    "이제, 탐색적 데이터 분석의 과정을 몇 가지 예제와 함께 알아보겠습니다."
   ]
  },
  {
   "cell_type": "markdown",
   "id": "purple-generation",
   "metadata": {},
   "source": [
    "### 데이터와의 첫 만남\n",
    "\n",
    "우리가 실제로 접하는 대부분의 데이터는 아직 분석에 활용된 적이 없는 혹은 정제되지 않은 데이터 입니다.  \n",
    "이러한 데이터를 raw data라고 부릅니다(이후 '데이터'로 통칭합니다). 탐색적 데이터 분석은 데이터를 열어보는 상황에서부터 시작되며 이때부터 다음과 같은 과정을 수행합니다.\n",
    "\n",
    "1. 데이터의 출처와 주제에 대해 이해합니다.\n",
    "우선 데이터가 어디에서 생성된 것이고, 어떻게 수집된 것인지를 이해하는 것이 먼저입니다.  \n",
    "데이터의 이름, 구성 요소, 그리고 데이터의 출처와 주제 등에 대해 가장 먼저 조사합시다.\n",
    "\n",
    "2. 데이터의 크기를 알아봅니다.\n",
    "데이터의 대략적인 양이나 개수를 알아보는 단계입니다. 데이터의 크기에 따라서 특별한 종류의 샘플링이 필요하기도 하고, 어떤 방식으로 데이터를 처리할지도 달라질 수 있기 때문입니다.\n",
    "\n",
    "3. 데이터의 구성 요소(피처)를 살펴봅니다.\n",
    "마지막으로 데이터의 피쳐를 살펴봅니다. 피처란 데이터를 구성하는 요소를 의미합니다.  "
   ]
  },
  {
   "cell_type": "markdown",
   "id": "funded-bosnia",
   "metadata": {},
   "source": [
    "### 데이터의 속성 탐색하기\n",
    "\n",
    "데이터를 탐색하는 단계에서 데이터의 외형적인 힌트를 얻었다면 이번 단계에서는 데이터의 실제적인 내용을 탐색합니다.  \n",
    "실제적인 내용 탐색의 과정에서는 크게 피처의 속성 탐색, 그리고 피처 간의 상관 관계 탐색 이렇게 두 가지를 시행합니다."
   ]
  }
 ],
 "metadata": {
  "kernelspec": {
   "display_name": "Python 3",
   "language": "python",
   "name": "python3"
  },
  "language_info": {
   "codemirror_mode": {
    "name": "ipython",
    "version": 3
   },
   "file_extension": ".py",
   "mimetype": "text/x-python",
   "name": "python",
   "nbconvert_exporter": "python",
   "pygments_lexer": "ipython3",
   "version": "3.6.9"
  }
 },
 "nbformat": 4,
 "nbformat_minor": 5
}
